{
  "cells": [
    {
      "cell_type": "raw",
      "metadata": {},
      "source": [
        "---\n",
        "title: \"Model\"\n",
        "format:\n",
        "  html:\n",
        "    code-fold: true\n",
        "---"
      ],
      "id": "1bccee89"
    },
    {
      "cell_type": "code",
      "metadata": {},
      "source": [
        "from palmerpenguins import penguins\n",
        "from pandas import get_dummies\n",
        "import numpy as np\n",
        "from sklearn.linear_model import LinearRegression\n",
        "from sklearn import preprocessing\n",
        "import duckdb\n",
        "from palmerpenguins import penguins\n",
        "from vetiver import VetiverAPI\n",
        "from vetiver import VetiverModel\n",
        "import requests\n",
        "import vetiver\n",
        "import pins"
      ],
      "id": "060bc0e2",
      "execution_count": null,
      "outputs": []
    },
    {
      "cell_type": "markdown",
      "metadata": {},
      "source": [
        "## Get Data\n"
      ],
      "id": "630c2c1e"
    },
    {
      "cell_type": "code",
      "metadata": {},
      "source": [
        "df = penguins.load_penguins().dropna()\n",
        "\n",
        "df.head(3)"
      ],
      "id": "5eea0066",
      "execution_count": null,
      "outputs": []
    },
    {
      "cell_type": "code",
      "metadata": {},
      "source": [
        "con = duckdb.connect('my-db.duckdb')\n",
        "df = con.execute(\"SELECT * FROM penguins\").fetchdf().dropna()"
      ],
      "id": "736089c1",
      "execution_count": null,
      "outputs": []
    },
    {
      "cell_type": "markdown",
      "metadata": {},
      "source": [
        "## Define Model and Fit\n"
      ],
      "id": "3382606c"
    },
    {
      "cell_type": "code",
      "metadata": {},
      "source": [
        "X = get_dummies(df[['bill_length_mm', 'species', 'sex']], drop_first = True)\n",
        "y = df['body_mass_g']\n",
        "\n",
        "model = LinearRegression().fit(X, y)"
      ],
      "id": "2988559e",
      "execution_count": null,
      "outputs": []
    },
    {
      "cell_type": "markdown",
      "metadata": {},
      "source": [
        "## Get some information\n"
      ],
      "id": "e787880e"
    },
    {
      "cell_type": "code",
      "metadata": {},
      "source": [
        "print(f\"R^2 {model.score(X,y)}\")\n",
        "print(f\"Intercept {model.intercept_}\")\n",
        "print(f\"Columns {X.columns}\")\n",
        "print(f\"Coefficients {model.coef_}\")"
      ],
      "id": "3673fbb7",
      "execution_count": null,
      "outputs": []
    },
    {
      "cell_type": "markdown",
      "metadata": {},
      "source": [
        "# Lab 2\n",
        "\n",
        "1.  Write model outside of the bundle\n"
      ],
      "id": "776ef088"
    },
    {
      "cell_type": "code",
      "metadata": {},
      "source": [
        "v = VetiverModel(model, model_name='penguin_model', prototype_data=X)"
      ],
      "id": "c918316a",
      "execution_count": null,
      "outputs": []
    },
    {
      "cell_type": "markdown",
      "metadata": {},
      "source": [
        "2.  Create an API for model predictions\n",
        "\n",
        "Auto-generate a `{fastAPI}` from this model with:\n"
      ],
      "id": "c01cb12e"
    },
    {
      "cell_type": "code",
      "metadata": {},
      "source": [
        "app = VetiverAPI(v, check_prototype=True)"
      ],
      "id": "e59af4c7",
      "execution_count": null,
      "outputs": []
    },
    {
      "cell_type": "markdown",
      "metadata": {},
      "source": [
        "Run in python environment with: http://localhost:8080 or with the code chunk below\n"
      ],
      "id": "cbe29ac9"
    },
    {
      "cell_type": "code",
      "metadata": {},
      "source": [
        "# app.run(port = 8080)"
      ],
      "id": "2af2d536",
      "execution_count": null,
      "outputs": []
    },
    {
      "cell_type": "markdown",
      "metadata": {},
      "source": [
        "# Lab 3\n",
        "\n",
        "### Step 1: Put Data into DuckDB\n"
      ],
      "id": "2532dde7"
    },
    {
      "cell_type": "code",
      "metadata": {},
      "source": [
        "#con.execute('CREATE TABLE penguins AS SELECT * FROM df')"
      ],
      "id": "704bd113",
      "execution_count": null,
      "outputs": []
    },
    {
      "cell_type": "markdown",
      "metadata": {},
      "source": [
        "### **Step 2: Call the model API from code**\n"
      ],
      "id": "14fe3d4c"
    },
    {
      "cell_type": "code",
      "metadata": {},
      "source": [
        "#req_data = {\n",
        " # \"bill_length_mm\": 0,\n",
        "#  \"species_Chinstrap\": False,\n",
        "#  \"species_Gentoo\": False,\n",
        "#  \"sex_male\": False\n",
        "#}\n",
        "#req = requests.post('http://127.0.0.1:8080/predict', json = [req_data])\n",
        "#res = req.json().get('predict')[0]"
      ],
      "id": "bfdfbd0f",
      "execution_count": null,
      "outputs": []
    },
    {
      "cell_type": "code",
      "metadata": {},
      "source": [
        "b = pins.board_folder('/data/model', allow_pickle_read=True)\n",
        "v = VetiverModel.from_pin(b, 'penguin_model', version = '20230422T102952Z-cb1f9')\n",
        "\n",
        "vetiver_api = vetiver.VetiverAPI(v)\n",
        "api = vetiver_api.app"
      ],
      "id": "0b8b7b75",
      "execution_count": null,
      "outputs": []
    },
    {
      "cell_type": "code",
      "metadata": {},
      "source": [
        "con.close()"
      ],
      "id": "a2e33a27",
      "execution_count": null,
      "outputs": []
    },
    {
      "cell_type": "markdown",
      "metadata": {},
      "source": [
        "### Step 3: Build a Shiny App\n",
        "\n",
        "-   Code is in app.py and app.R"
      ],
      "id": "01674339"
    }
  ],
  "metadata": {
    "kernelspec": {
      "name": "python3",
      "language": "python",
      "display_name": "Python 3 (ipykernel)"
    }
  },
  "nbformat": 4,
  "nbformat_minor": 5
}